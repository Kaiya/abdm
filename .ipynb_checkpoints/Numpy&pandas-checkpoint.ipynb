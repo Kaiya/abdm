{
 "cells": [
  {
   "cell_type": "code",
   "execution_count": 6,
   "metadata": {},
   "outputs": [
    {
     "name": "stdout",
     "output_type": "stream",
     "text": [
      "[[1 2 3]\n",
      " [2 3 4]]\n",
      "dim:  2\n",
      "shape:  (2, 3)\n",
      "size:  6\n"
     ]
    }
   ],
   "source": [
    "import numpy as np\n",
    "\n",
    "array = np.array([[1,2,3],[2,3,4]])\n",
    "\n",
    "print(array)\n",
    "print(\"dim: \", array.ndim)\n",
    "print(\"shape: \", array.shape)\n",
    "print(\"size: \", array.size)"
   ]
  },
  {
   "cell_type": "code",
   "execution_count": 16,
   "metadata": {},
   "outputs": [
    {
     "name": "stdout",
     "output_type": "stream",
     "text": [
      "int64\n",
      "[[ 2 23  4]\n",
      " [ 2 32  4]]\n",
      "[[0. 0. 0. 0.]\n",
      " [0. 0. 0. 0.]\n",
      " [0. 0. 0. 0.]]\n",
      "[[1 1 1 1]\n",
      " [1 1 1 1]\n",
      " [1 1 1 1]]\n",
      "[[0. 0. 0. 0.]\n",
      " [0. 0. 0. 0.]\n",
      " [0. 0. 0. 0.]]\n",
      "[10 12 14 16 18]\n",
      "[[ 0  1  2  3  4]\n",
      " [ 5  6  7  8  9]\n",
      " [10 11 12 13 14]]\n"
     ]
    }
   ],
   "source": [
    "a = np.array([2,23,4], dtype=np.int) # array dtype: int int32 int64 float32 float64\n",
    "print(a.dtype)\n",
    "\n",
    "a = np.array([[2,23,4],\n",
    "          [2,32,4]])\n",
    "print(a)\n",
    "\n",
    "b = np.zeros((3,4))\n",
    "print(b)\n",
    "\n",
    "print(np.ones((3,4), dtype=np.int32))\n",
    "print(np.empty((3,4)))\n",
    "\n",
    "print(np.arange(10, 20, 2)) # similar to range()\n",
    "print(np.arange(15).reshape((3,5)))"
   ]
  },
  {
   "cell_type": "code",
   "execution_count": 23,
   "metadata": {},
   "outputs": [
    {
     "name": "stdout",
     "output_type": "stream",
     "text": [
      "[[ 1.   2.8  4.6]\n",
      " [ 6.4  8.2 10. ]]\n"
     ]
    }
   ],
   "source": [
    "print(np.linspace(1, 10, 6).reshape(2,3))"
   ]
  },
  {
   "cell_type": "code",
   "execution_count": 26,
   "metadata": {},
   "outputs": [
    {
     "name": "stdout",
     "output_type": "stream",
     "text": [
      "[-5.44021111  9.12945251 -9.88031624  7.4511316 ]\n"
     ]
    }
   ],
   "source": [
    "a = np.array([10, 20, 30, 40])\n",
    "b = np.arange(4)\n",
    "# c = a - b\n",
    "# c = a**2 # a^2 -> a**2\n",
    "c = 10*np.sin(a) # np.cos np.tanh\n",
    "print(c)"
   ]
  },
  {
   "cell_type": "markdown",
   "metadata": {},
   "source": [
    "### matrix operation"
   ]
  },
  {
   "cell_type": "code",
   "execution_count": 32,
   "metadata": {},
   "outputs": [
    {
     "name": "stdout",
     "output_type": "stream",
     "text": [
      "[[0 1]\n",
      " [0 3]]\n",
      "[[2 4]\n",
      " [2 3]]\n"
     ]
    }
   ],
   "source": [
    "a = np.array([[1,1],\n",
    "              [0,1]])\n",
    "b = np.arange(4).reshape(2,2)\n",
    "\n",
    "c = a*b\n",
    "c_dot = np.dot(a,b) \n",
    "c_dot_2 = a.dot(b)\n",
    "c_dot_3 = a@b\n",
    "print(c)\n",
    "print(c_dot)"
   ]
  },
  {
   "cell_type": "code",
   "execution_count": 35,
   "metadata": {},
   "outputs": [
    {
     "name": "stdout",
     "output_type": "stream",
     "text": [
      "[[0.29544167 0.33294477 0.30147886 0.53466181]\n",
      " [0.83557145 0.7772764  0.30687708 0.9904997 ]]\n",
      "4.374751729294632\n",
      "[0.29544167 0.33294477 0.30147886 0.53466181]\n",
      "[0.29544167 0.30687708]\n",
      "0.2954416685253235\n",
      "0.9904996957685688\n"
     ]
    }
   ],
   "source": [
    "a = np.random.random((2,4))\n",
    "print(a)\n",
    "print(np.sum(a))\n",
    "print(np.min(a, axis=0)) # 0 -> column, 1 -> row\n",
    "print(np.min(a, axis=1))\n",
    "print(np.min(a))\n",
    "print(np.max(a))"
   ]
  },
  {
   "cell_type": "code",
   "execution_count": 50,
   "metadata": {},
   "outputs": [
    {
     "name": "stdout",
     "output_type": "stream",
     "text": [
      "11\n",
      "0\n",
      "8.5\n",
      "8.5\n",
      "8.5\n",
      "[ 14  27  39  50  60  69  77  84  90  95  99 102]\n",
      "[[-1 -1 -1]\n",
      " [-1 -1 -1]\n",
      " [-1 -1 -1]]\n",
      "(array([0, 0, 0, 0, 1, 1, 1, 1, 2, 2, 2, 2]), array([0, 1, 2, 3, 0, 1, 2, 3, 0, 1, 2, 3]))\n",
      "[[11 12 13 14]\n",
      " [ 7  8  9 10]\n",
      " [ 3  4  5  6]]\n",
      "[[14 10  6]\n",
      " [13  9  5]\n",
      " [12  8  4]\n",
      " [11  7  3]]\n",
      "[[9 9 9 9]\n",
      " [9 9 8 7]\n",
      " [6 5 5 5]]\n"
     ]
    }
   ],
   "source": [
    "A = np.arange(14, 2, -1).reshape((3,4))\n",
    "print(np.argmin(A)) # arg -> index\n",
    "print(np.argmax(A))\n",
    "print(np.mean(A)) # equal to A.mean()\n",
    "print(np.average(A))\n",
    "print(np.median(A))\n",
    "print(np.cumsum(A)) # cumulated\n",
    "print(np.diff(A))\n",
    "print(np.nonzero(A))\n",
    "print(np.sort(A))\n",
    "print(np.transpose(A)) # equal to A.T, transpose of a matrix. A^T\n",
    "print(np.clip(A, 5, 9))\n",
    "# print(A)"
   ]
  },
  {
   "cell_type": "code",
   "execution_count": 63,
   "metadata": {},
   "outputs": [
    {
     "name": "stdout",
     "output_type": "stream",
     "text": [
      "12\n",
      "[ 7  8  9 10]\n",
      "[8 9]\n",
      "[ 3  7 11]\n",
      "[ 4  8 12]\n",
      "[ 5  9 13]\n",
      "[ 6 10 14]\n",
      "[ 3  4  5  6  7  8  9 10 11 12 13 14]\n"
     ]
    }
   ],
   "source": [
    "A = np.arange(3, 15).reshape((3,4))\n",
    "print(A[2][1]) # A[2,1]\n",
    "print(A[1, :]) # : stand for all the element\n",
    "print(A[1, 1:3]) # [1-3), so index 1 and 2\n",
    "\n",
    "for column in A.T: # row in A , column in A.T\n",
    "    print(column)\n",
    "    \n",
    "# traverse\n",
    "print(A.flatten())\n",
    "# for item in A.flat: # A.flat is a iterator of A.flatten\n",
    "#     print(item)"
   ]
  },
  {
   "cell_type": "code",
   "execution_count": 76,
   "metadata": {},
   "outputs": [
    {
     "name": "stdout",
     "output_type": "stream",
     "text": [
      "(3,) (2, 3) (6,)\n",
      "[[1 2]\n",
      " [1 2]\n",
      " [1 2]]\n",
      "[[1 2 2 1]\n",
      " [1 2 2 1]\n",
      " [1 2 2 1]]\n"
     ]
    }
   ],
   "source": [
    "A = np.array([1,1,1])\n",
    "B = np.array([2,2,2])\n",
    "C = np.vstack((A,B)) #vertical stack\n",
    "D = np.hstack((A,B)) # horizontal stack\n",
    "print(A.shape, C.shape, D.shape)\n",
    "\n",
    "A1 = np.array([1,1,1])[:, np.newaxis]\n",
    "B1 = np.array([2,2,2])[:, np.newaxis]\n",
    "D1 = np.hstack((A1,B1))\n",
    "\n",
    "print(D1)\n",
    "\n",
    "E = np.concatenate((A1, B1, B1, A1), axis=1)\n",
    "print(E)"
   ]
  },
  {
   "cell_type": "code",
   "execution_count": 87,
   "metadata": {},
   "outputs": [
    {
     "name": "stdout",
     "output_type": "stream",
     "text": [
      "[[ 0  1  2  3]\n",
      " [ 4  5  6  7]\n",
      " [ 8  9 10 11]]\n",
      "[array([[0, 1, 2, 3]]), array([[4, 5, 6, 7]]), array([[ 8,  9, 10, 11]])]\n",
      "[array([[0, 1],\n",
      "       [4, 5],\n",
      "       [8, 9]]), array([[ 2],\n",
      "       [ 6],\n",
      "       [10]]), array([[ 3],\n",
      "       [ 7],\n",
      "       [11]])]\n",
      "[array([[0, 1, 2, 3]]), array([[4, 5, 6, 7]]), array([[ 8,  9, 10, 11]])]\n",
      "[array([[0, 1],\n",
      "       [4, 5],\n",
      "       [8, 9]]), array([[ 2,  3],\n",
      "       [ 6,  7],\n",
      "       [10, 11]])]\n"
     ]
    }
   ],
   "source": [
    "A = np.arange(12).reshape((3,4))\n",
    "print(A)\n",
    "print(np.split(A, 3, axis=0))\n",
    "\n",
    "# inequal division:\n",
    "print(np.array_split(A, 3, axis=1))\n",
    "\n",
    "print(np.vsplit(A,3))\n",
    "print(np.hsplit(A,2))"
   ]
  },
  {
   "cell_type": "code",
   "execution_count": 92,
   "metadata": {},
   "outputs": [
    {
     "name": "stdout",
     "output_type": "stream",
     "text": [
      "[11  1  2  3]\n",
      "[11  1  2  3]\n",
      "True\n",
      "[11  1  2 44]\n",
      "[11  1  2  3]\n"
     ]
    }
   ],
   "source": [
    "a = np.arange(4)\n",
    "b = a\n",
    "c = a \n",
    "d = b\n",
    "a[0] = 11\n",
    "print(a)\n",
    "print(b)\n",
    "print(b is a)\n",
    "\n",
    "b = a.copy() # deep copy\n",
    "a[3] = 44\n",
    "print(a)\n",
    "print(b)\n"
   ]
  },
  {
   "cell_type": "code",
   "execution_count": null,
   "metadata": {},
   "outputs": [],
   "source": []
  }
 ],
 "metadata": {
  "kernelspec": {
   "display_name": "ae",
   "language": "python",
   "name": "ae"
  },
  "language_info": {
   "codemirror_mode": {
    "name": "ipython",
    "version": 3
   },
   "file_extension": ".py",
   "mimetype": "text/x-python",
   "name": "python",
   "nbconvert_exporter": "python",
   "pygments_lexer": "ipython3",
   "version": "3.8.5"
  }
 },
 "nbformat": 4,
 "nbformat_minor": 4
}
