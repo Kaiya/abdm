{
  "cells": [
    {
      "cell_type": "markdown",
      "metadata": {
        "id": "7cCbtnx3VtiF",
        "colab_type": "text"
      },
      "source": [
        "## Activate GPU\n",
        "\n",
        "1.   Runtime menu\n",
        "2.   Change runtime type\n",
        "3.   Hardware accelerator -> GPU"
      ]
    },
    {
      "cell_type": "markdown",
      "metadata": {
        "id": "f-prR7akVTVD",
        "colab_type": "text"
      },
      "source": [
        "## Get Foolbox"
      ]
    },
    {
      "cell_type": "code",
      "metadata": {
        "id": "rMtdyaTjBnG2",
        "colab_type": "code",
        "colab": {}
      },
      "source": [
        ""
      ],
      "execution_count": null,
      "outputs": []
    },
    {
      "cell_type": "markdown",
      "metadata": {
        "id": "ZCzmdczhBkSL",
        "colab_type": "text"
      },
      "source": [
        "#### Solution"
      ]
    },
    {
      "cell_type": "code",
      "metadata": {
        "id": "zlBGQWxQU9He",
        "colab_type": "code",
        "colab": {
          "base_uri": "https://localhost:8080/",
          "height": 170
        },
        "outputId": "0a6bca63-f83e-4bed-ea31-13b2918f99c6"
      },
      "source": [
        "!pip3 install foolbox==3.0.0b1\n",
        "# !pip3 install git+https://github.com/bethgelab/foolbox.git"
      ],
      "execution_count": null,
      "outputs": []
    },
    {
      "cell_type": "code",
      "metadata": {
        "id": "EoSl-i8TVC_t",
        "colab_type": "code",
        "colab": {}
      },
      "source": [
        "import foolbox as fb"
      ],
      "execution_count": null,
      "outputs": []
    },
    {
      "cell_type": "markdown",
      "metadata": {
        "id": "v4MZV_trVPRR",
        "colab_type": "text"
      },
      "source": [
        "## Get a model\n",
        "\n",
        "Get a pertrained PyTorch or TensorFlow model, e.g. `torchvision.models.resnet18` or `tf.keras.applications.ResNet50`."
      ]
    },
    {
      "cell_type": "markdown",
      "metadata": {
        "id": "lqgAKCZasz9P",
        "colab_type": "text"
      },
      "source": [
        "#### PyTorch Solution"
      ]
    },
    {
      "cell_type": "code",
      "metadata": {
        "id": "_kdF_DVFVSr0",
        "colab_type": "code",
        "colab": {}
      },
      "source": [
        "import torch\n",
        "import torchvision"
      ],
      "execution_count": null,
      "outputs": []
    },
    {
      "cell_type": "code",
      "metadata": {
        "id": "tGF1zpCUsxwS",
        "colab_type": "code",
        "colab": {
          "base_uri": "https://localhost:8080/",
          "height": 34
        },
        "outputId": "56af3908-ef63-40fe-f34c-d9c89c8b8d98"
      },
      "source": [
        "torch.__version__"
      ],
      "execution_count": null,
      "outputs": []
    },
    {
      "cell_type": "code",
      "metadata": {
        "id": "zFQLEepCVo-V",
        "colab_type": "code",
        "colab": {
          "base_uri": "https://localhost:8080/",
          "height": 34
        },
        "outputId": "0292b444-ba74-4bb7-d6ea-cdd3ab0cc23c"
      },
      "source": [
        "torch.cuda.is_available()"
      ],
      "execution_count": null,
      "outputs": []
    },
    {
      "cell_type": "code",
      "metadata": {
        "id": "S0ITh00mVePh",
        "colab_type": "code",
        "colab": {
          "base_uri": "https://localhost:8080/",
          "height": 83,
          "referenced_widgets": [
            "264175528b7543f8956e9d5da8ff021b",
            "ed783308c2af4309b8a17c470a15dc44",
            "adc979db6eb94f7f92ff30b93ca0b455",
            "1bec2a696df640beb403e26b3e27b534",
            "9dadba1223b64c96b54e6a6c662b7d7a",
            "3799091fdb8a48509d8e0dfa4f2a60b0",
            "853fb0fac6f44e5ca8c5acec5d67c895",
            "874c3ed3ec0a41a5b9dfc7e25daef915"
          ]
        },
        "outputId": "d1ac2ad2-8549-40c7-ca69-4fa6b2e076d6",
        "tags": []
      },
      "source": [
        "model = torchvision.models.resnet18(pretrained=True)"
      ],
      "execution_count": null,
      "outputs": []
    },
    {
      "cell_type": "code",
      "metadata": {
        "id": "rS7Bsm3zt3Hl",
        "colab_type": "code",
        "colab": {}
      },
      "source": [
        "model = model.eval()"
      ],
      "execution_count": null,
      "outputs": []
    },
    {
      "cell_type": "markdown",
      "metadata": {
        "id": "vCv7EO7NXC83",
        "colab_type": "text"
      },
      "source": [
        "## Turn your PyTorch model into a Foolbox model\n",
        "\n",
        "Don't forget to specify the correct bounds and preprocessing!"
      ]
    },
    {
      "cell_type": "markdown",
      "metadata": {
        "id": "M5e1no0_DUqO",
        "colab_type": "text"
      },
      "source": [
        "#### PyTorch Solution"
      ]
    },
    {
      "cell_type": "code",
      "metadata": {
        "id": "4jT-svy6X_yd",
        "colab_type": "code",
        "colab": {}
      },
      "source": [
        "# PyTorch ResNet18\n",
        "preprocessing = dict(mean=[0.485, 0.456, 0.406], std=[0.229, 0.224, 0.225], axis=-3)\n",
        "bounds = (0, 1)\n",
        "fmodel = fb.PyTorchModel(model, bounds=bounds, preprocessing=preprocessing)"
      ],
      "execution_count": null,
      "outputs": []
    },
    {
      "cell_type": "markdown",
      "metadata": {
        "id": "ZIFNv2HsYmGt",
        "colab_type": "text"
      },
      "source": [
        "## Transform bounds\n",
        "\n",
        "In the following, we want to work with a model that has `(0, 1)` bounds. Use `fmodel.transform_bounds`."
      ]
    },
    {
      "cell_type": "markdown",
      "metadata": {
        "id": "CSTk5QS1Dh09",
        "colab_type": "text"
      },
      "source": [
        "#### Solution"
      ]
    },
    {
      "cell_type": "code",
      "metadata": {
        "id": "aD3g8m3cY4aO",
        "colab_type": "code",
        "colab": {}
      },
      "source": [
        "fmodel = fmodel.transform_bounds((0, 1))"
      ],
      "execution_count": null,
      "outputs": []
    },
    {
      "cell_type": "code",
      "metadata": {
        "id": "dknfqEoyZ9BK",
        "colab_type": "code",
        "colab": {}
      },
      "source": [
        "assert fmodel.bounds == (0, 1)"
      ],
      "execution_count": null,
      "outputs": []
    },
    {
      "cell_type": "markdown",
      "metadata": {
        "id": "5-IRsoejYFKG",
        "colab_type": "text"
      },
      "source": [
        "## Get some test images\n",
        "\n",
        "Get a batch of 16 images and the corrresponding labels. You can use `foolbox.utils.samples` to get up to 20 images, but you can also you your own data loader."
      ]
    },
    {
      "cell_type": "markdown",
      "metadata": {
        "id": "aVFykA0jDnt8",
        "colab_type": "text"
      },
      "source": [
        "#### Solution"
      ]
    },
    {
      "cell_type": "code",
      "metadata": {
        "id": "7_iGIBTAYRRV",
        "colab_type": "code",
        "colab": {}
      },
      "source": [
        "images, labels = fb.utils.samples(fmodel, dataset='imagenet', batchsize=16)"
      ],
      "execution_count": null,
      "outputs": []
    },
    {
      "cell_type": "markdown",
      "metadata": {
        "id": "16RxhaaTZHGW",
        "colab_type": "text"
      },
      "source": [
        "## Check the accuracy of your model to make sure you specified the correct preprocessing"
      ]
    },
    {
      "cell_type": "markdown",
      "metadata": {
        "id": "4IJ9S63QDrW0",
        "colab_type": "text"
      },
      "source": [
        "#### Solution"
      ]
    },
    {
      "cell_type": "code",
      "metadata": {
        "id": "YYzcm-y3ZEge",
        "colab_type": "code",
        "colab": {
          "base_uri": "https://localhost:8080/",
          "height": 34
        },
        "outputId": "7541c74d-8496-40eb-cf51-1ac960431341"
      },
      "source": [
        "fb.utils.accuracy(fmodel, images, labels)"
      ],
      "execution_count": null,
      "outputs": []
    },
    {
      "cell_type": "code",
      "metadata": {
        "id": "s0KKvszBZTK_",
        "colab_type": "code",
        "colab": {
          "base_uri": "https://localhost:8080/",
          "height": 34
        },
        "outputId": "928b0c24-345e-4f45-fc61-22c31416d402"
      },
      "source": [
        "type(images), images.shape"
      ],
      "execution_count": null,
      "outputs": []
    },
    {
      "cell_type": "code",
      "metadata": {
        "id": "jdVr1I7xa3eZ",
        "colab_type": "code",
        "colab": {
          "base_uri": "https://localhost:8080/",
          "height": 34
        },
        "outputId": "7bc6e53b-313a-44d8-89c6-915bffbb0691"
      },
      "source": [
        "type(labels), labels.shape"
      ],
      "execution_count": null,
      "outputs": []
    },
    {
      "cell_type": "markdown",
      "metadata": {
        "id": "-A-U7jXkaL5Z",
        "colab_type": "text"
      },
      "source": [
        "## Run LinfDeepFool"
      ]
    },
    {
      "cell_type": "markdown",
      "metadata": {
        "id": "Whh9Yqh7D2au",
        "colab_type": "text"
      },
      "source": [
        "#### Solution"
      ]
    },
    {
      "cell_type": "code",
      "metadata": {
        "id": "ok1bWA0zaPqk",
        "colab_type": "code",
        "colab": {}
      },
      "source": [
        "attack = fb.attacks.LinfDeepFoolAttack()"
      ],
      "execution_count": null,
      "outputs": []
    },
    {
      "cell_type": "code",
      "metadata": {
        "id": "0tSDbfp0abaD",
        "colab_type": "code",
        "colab": {}
      },
      "source": [
        "raw, clipped, is_adv = attack(fmodel, images, labels, epsilons=0.03)"
      ],
      "execution_count": null,
      "outputs": []
    },
    {
      "cell_type": "code",
      "metadata": {
        "id": "UDOMxl_Iar5N",
        "colab_type": "code",
        "colab": {
          "base_uri": "https://localhost:8080/",
          "height": 68
        },
        "outputId": "ba2c6253-60cc-47fe-e74a-589eacb8108a"
      },
      "source": [
        "is_adv"
      ],
      "execution_count": null,
      "outputs": []
    },
    {
      "cell_type": "markdown",
      "metadata": {
        "id": "vUXEA9Zqa_iv",
        "colab_type": "text"
      },
      "source": [
        "## Use EagerPy tensors and rerun the attack"
      ]
    },
    {
      "cell_type": "markdown",
      "metadata": {
        "id": "cOs-TwIHEBiT",
        "colab_type": "text"
      },
      "source": [
        "#### Solution"
      ]
    },
    {
      "cell_type": "code",
      "metadata": {
        "id": "55VDs2bAbDpq",
        "colab_type": "code",
        "colab": {}
      },
      "source": [
        "import eagerpy as ep"
      ],
      "execution_count": null,
      "outputs": []
    },
    {
      "cell_type": "code",
      "metadata": {
        "id": "x1awB7O9bBQb",
        "colab_type": "code",
        "colab": {}
      },
      "source": [
        "images = ep.astensor(images)\n",
        "labels = ep.astensor(labels)"
      ],
      "execution_count": null,
      "outputs": []
    },
    {
      "cell_type": "code",
      "metadata": {
        "id": "0537i5ktbICC",
        "colab_type": "code",
        "colab": {}
      },
      "source": [
        "raw, clipped, is_adv = attack(fmodel, images, labels, epsilons=0.03)"
      ],
      "execution_count": null,
      "outputs": []
    },
    {
      "cell_type": "code",
      "metadata": {
        "id": "nWtyIWKVbQz5",
        "colab_type": "code",
        "colab": {
          "base_uri": "https://localhost:8080/",
          "height": 68
        },
        "outputId": "fdc49440-eaab-4760-9c9c-ac743629b4b9"
      },
      "source": [
        "is_adv"
      ],
      "execution_count": null,
      "outputs": []
    },
    {
      "cell_type": "code",
      "metadata": {
        "id": "xKzZYtsGbS6U",
        "colab_type": "code",
        "colab": {
          "base_uri": "https://localhost:8080/",
          "height": 34
        },
        "outputId": "a502951c-d873-4a4c-98cc-acf9e6bdaa7e"
      },
      "source": [
        "is_adv.float32().mean().item()"
      ],
      "execution_count": null,
      "outputs": []
    },
    {
      "cell_type": "markdown",
      "metadata": {
        "id": "beBtrF8bEvK4",
        "colab_type": "text"
      },
      "source": [
        "## Using the Misclassification criterion explicitly"
      ]
    },
    {
      "cell_type": "markdown",
      "metadata": {
        "id": "b5qD7Yo7E0Nq",
        "colab_type": "text"
      },
      "source": [
        "#### Solution"
      ]
    },
    {
      "cell_type": "code",
      "metadata": {
        "id": "xfgD6korE-qH",
        "colab_type": "code",
        "colab": {}
      },
      "source": [
        "criterion = fb.criteria.Misclassification(labels)"
      ],
      "execution_count": null,
      "outputs": []
    },
    {
      "cell_type": "code",
      "metadata": {
        "id": "nBub7erBFHT6",
        "colab_type": "code",
        "colab": {}
      },
      "source": [
        "raw, clipped, is_adv = attack(fmodel, images, criterion, epsilons=0.03)"
      ],
      "execution_count": null,
      "outputs": []
    },
    {
      "cell_type": "code",
      "metadata": {
        "id": "_X-YiV7-FJ0T",
        "colab_type": "code",
        "colab": {}
      },
      "source": [
        "is_adv"
      ],
      "execution_count": null,
      "outputs": []
    },
    {
      "cell_type": "markdown",
      "metadata": {
        "id": "-XHAOyeDbaT2",
        "colab_type": "text"
      },
      "source": [
        "## Run the attack using many epsilons"
      ]
    },
    {
      "cell_type": "markdown",
      "metadata": {
        "id": "Zt7tTbEoEKlL",
        "colab_type": "text"
      },
      "source": [
        "#### Solution"
      ]
    },
    {
      "cell_type": "code",
      "metadata": {
        "id": "ywZt64jQccX4",
        "colab_type": "code",
        "colab": {}
      },
      "source": [
        "import numpy as np"
      ],
      "execution_count": null,
      "outputs": []
    },
    {
      "cell_type": "code",
      "metadata": {
        "id": "pk0kP1dvbWt0",
        "colab_type": "code",
        "colab": {}
      },
      "source": [
        "epsilons = np.linspace(0.0, 0.005, num=20)"
      ],
      "execution_count": null,
      "outputs": []
    },
    {
      "cell_type": "code",
      "metadata": {
        "id": "Rul-b9QUbqR8",
        "colab_type": "code",
        "colab": {}
      },
      "source": [
        "raw, clipped, is_adv = attack(fmodel, images, labels, epsilons=epsilons)"
      ],
      "execution_count": null,
      "outputs": []
    },
    {
      "cell_type": "code",
      "metadata": {
        "id": "hM3uM7htbsSf",
        "colab_type": "code",
        "colab": {
          "base_uri": "https://localhost:8080/",
          "height": 34
        },
        "outputId": "87713cc3-9ee5-41ed-ee89-07bef8dcce3a"
      },
      "source": [
        "is_adv.shape"
      ],
      "execution_count": null,
      "outputs": []
    },
    {
      "cell_type": "code",
      "metadata": {
        "id": "hWE-5qCjb4gW",
        "colab_type": "code",
        "colab": {
          "base_uri": "https://localhost:8080/",
          "height": 85
        },
        "outputId": "edc8087c-494f-4c40-9e82-8db60e0bb041"
      },
      "source": [
        "is_adv.float32().mean(axis=-1)"
      ],
      "execution_count": null,
      "outputs": []
    },
    {
      "cell_type": "code",
      "metadata": {
        "id": "KEf5-wQtcD2Z",
        "colab_type": "code",
        "colab": {}
      },
      "source": [
        "robust_accuracy = 1 - is_adv.float32().mean(axis=-1)"
      ],
      "execution_count": null,
      "outputs": []
    },
    {
      "cell_type": "code",
      "metadata": {
        "id": "mVUNz6G1cKT2",
        "colab_type": "code",
        "colab": {
          "base_uri": "https://localhost:8080/",
          "height": 85
        },
        "outputId": "8ab83ae9-58ed-4590-d0bc-c3417cfb8c8c"
      },
      "source": [
        "robust_accuracy"
      ],
      "execution_count": null,
      "outputs": []
    },
    {
      "cell_type": "markdown",
      "metadata": {
        "id": "xHb2XzjVcMyb",
        "colab_type": "text"
      },
      "source": [
        "## Plot the robust accuracy as a function of epsilon"
      ]
    },
    {
      "cell_type": "markdown",
      "metadata": {
        "id": "yHaOZFR8Ef6F",
        "colab_type": "text"
      },
      "source": [
        "#### Solution"
      ]
    },
    {
      "cell_type": "code",
      "metadata": {
        "id": "WLuSC9mHcNIv",
        "colab_type": "code",
        "colab": {}
      },
      "source": [
        "import matplotlib.pyplot as plt"
      ],
      "execution_count": null,
      "outputs": []
    },
    {
      "cell_type": "code",
      "metadata": {
        "id": "UfsP6Oa6cLac",
        "colab_type": "code",
        "colab": {
          "base_uri": "https://localhost:8080/",
          "height": 282
        },
        "outputId": "509ea65b-4f96-4da3-d545-f4bf9c41296d"
      },
      "source": [
        "plt.plot(epsilons, robust_accuracy.numpy())"
      ],
      "execution_count": null,
      "outputs": []
    },
    {
      "cell_type": "markdown",
      "metadata": {
        "id": "j0GjZI4Xc2Ug",
        "colab_type": "text"
      },
      "source": [
        "## Run a targeted attack"
      ]
    },
    {
      "cell_type": "markdown",
      "metadata": {
        "id": "zEBlhDhTEjqk",
        "colab_type": "text"
      },
      "source": [
        "#### Solution"
      ]
    },
    {
      "cell_type": "code",
      "metadata": {
        "id": "eKgW3nmJwGXT",
        "colab_type": "code",
        "colab": {
          "base_uri": "https://localhost:8080/",
          "height": 68
        },
        "outputId": "73d5ca4d-4a77-45c1-aa7c-056a543d406e"
      },
      "source": [
        "labels"
      ],
      "execution_count": null,
      "outputs": []
    },
    {
      "cell_type": "code",
      "metadata": {
        "id": "HNKHXJRmwAIg",
        "colab_type": "code",
        "colab": {}
      },
      "source": [
        "target_classes = (labels + 200) % 1000"
      ],
      "execution_count": null,
      "outputs": []
    },
    {
      "cell_type": "code",
      "metadata": {
        "id": "rQYu5MADwQfM",
        "colab_type": "code",
        "colab": {
          "base_uri": "https://localhost:8080/",
          "height": 68
        },
        "outputId": "fd81bb68-58a1-4b2e-8d3c-03e2da6c0e2f"
      },
      "source": [
        "target_classes"
      ],
      "execution_count": null,
      "outputs": []
    },
    {
      "cell_type": "code",
      "metadata": {
        "id": "qyWL1BbidDIm",
        "colab_type": "code",
        "colab": {}
      },
      "source": [
        "criterion = fb.criteria.TargetedMisclassification(target_classes)"
      ],
      "execution_count": null,
      "outputs": []
    },
    {
      "cell_type": "code",
      "metadata": {
        "id": "eoI1w0i1wrp6",
        "colab_type": "code",
        "colab": {}
      },
      "source": [
        "attack = fb.attacks.L2CarliniWagnerAttack(steps=100)\n",
        "# Note: 100 is too little -> results will be bad = perturbations will be relatively large (but 1000 takes much longer)"
      ],
      "execution_count": null,
      "outputs": []
    },
    {
      "cell_type": "code",
      "metadata": {
        "id": "cjX0RmLlxOLn",
        "colab_type": "code",
        "colab": {}
      },
      "source": [
        "# epsilons = np.linspace(0.0, 10.0, num=20)\n",
        "epsilons = None"
      ],
      "execution_count": null,
      "outputs": []
    },
    {
      "cell_type": "code",
      "metadata": {
        "id": "fBw5Cjxvwd-R",
        "colab_type": "code",
        "colab": {}
      },
      "source": [
        "advs, _, is_adv = attack(fmodel, images, criterion, epsilons=epsilons)"
      ],
      "execution_count": null,
      "outputs": []
    },
    {
      "cell_type": "code",
      "metadata": {
        "id": "6ihN4Hskyi-H",
        "colab_type": "code",
        "colab": {
          "base_uri": "https://localhost:8080/",
          "height": 68
        },
        "outputId": "76086a4b-626c-4830-c816-b303d18ba125"
      },
      "source": [
        "is_adv"
      ],
      "execution_count": null,
      "outputs": []
    },
    {
      "cell_type": "code",
      "metadata": {
        "id": "6-u5SRYg1-nf",
        "colab_type": "code",
        "colab": {
          "base_uri": "https://localhost:8080/",
          "height": 102
        },
        "outputId": "2958feea-575a-422f-803b-69b344536368"
      },
      "source": [
        "fb.distances.l2(images, raw)"
      ],
      "execution_count": null,
      "outputs": []
    },
    {
      "cell_type": "code",
      "metadata": {
        "id": "7AU7PYNIwhTl",
        "colab_type": "code",
        "colab": {}
      },
      "source": [
        "# attack_success_rate = is_adv.float32().mean(axis=-1)"
      ],
      "execution_count": null,
      "outputs": []
    },
    {
      "cell_type": "code",
      "metadata": {
        "id": "Geydb0ryw-oc",
        "colab_type": "code",
        "colab": {}
      },
      "source": [
        "# plt.plot(epsilons, attack_success_rate.numpy())"
      ],
      "execution_count": null,
      "outputs": []
    },
    {
      "cell_type": "markdown",
      "metadata": {
        "id": "0-89Dcm14lg-",
        "colab_type": "text"
      },
      "source": [
        "## Visualizing adversarial examples and perturbations"
      ]
    },
    {
      "cell_type": "markdown",
      "metadata": {
        "id": "V3CywhNvFd3y",
        "colab_type": "text"
      },
      "source": [
        "#### Solution"
      ]
    },
    {
      "cell_type": "code",
      "metadata": {
        "id": "iNziF0QM4oDf",
        "colab_type": "code",
        "colab": {
          "base_uri": "https://localhost:8080/",
          "height": 96
        },
        "outputId": "cdad81b1-4ba2-4a03-9a92-67b25ab736b9"
      },
      "source": [
        "fb.plot.images(images)"
      ],
      "execution_count": null,
      "outputs": []
    },
    {
      "cell_type": "code",
      "metadata": {
        "id": "CSSNpohg5uaU",
        "colab_type": "code",
        "colab": {
          "base_uri": "https://localhost:8080/",
          "height": 96
        },
        "outputId": "0340c550-a2b6-4a54-bf58-162dbbfc6f09"
      },
      "source": [
        "fb.plot.images(advs)"
      ],
      "execution_count": null,
      "outputs": []
    },
    {
      "cell_type": "code",
      "metadata": {
        "id": "Ft4Vjb506GPg",
        "colab_type": "code",
        "colab": {
          "base_uri": "https://localhost:8080/",
          "height": 309
        },
        "outputId": "ba9a7777-f8ac-4b59-d2d5-c5ea3866450f"
      },
      "source": [
        "fb.plot.images(advs - images, n=4, bounds=(-1, 1), scale=4.)"
      ],
      "execution_count": null,
      "outputs": []
    },
    {
      "cell_type": "markdown",
      "metadata": {
        "id": "0qhSuyHAc8ji",
        "colab_type": "text"
      },
      "source": [
        "## Continuing from here ...\n",
        "\n",
        "\n",
        "\n",
        "*   Repeating an attack (`attack = attack.repeat(3)`)\n",
        "*   Getting the per-sample worst-case over multiple attacks\n",
        "    * stack attack results and take max over the attacks before taking the mean over samples\n",
        "*   Gradient estimators (`fb.gradient_estimators.*`)\n",
        "*   Transfer attacks using gradient substitution (see examples)\n",
        "\n"
      ]
    }
  ],
  "metadata": {
    "colab": {
      "name": "foolbox3.ipynb",
      "provenance": [],
      "collapsed_sections": [
        "ZCzmdczhBkSL",
        "ldGVK689BqSs",
        "GFRoex7-B4lj",
        "M5e1no0_DUqO",
        "JYYYPYsvDbhF",
        "CSTk5QS1Dh09",
        "aVFykA0jDnt8",
        "4IJ9S63QDrW0",
        "Whh9Yqh7D2au",
        "cOs-TwIHEBiT",
        "b5qD7Yo7E0Nq",
        "Zt7tTbEoEKlL",
        "yHaOZFR8Ef6F",
        "zEBlhDhTEjqk",
        "V3CywhNvFd3y"
      ]
    },
    "kernelspec": {
      "name": "python3",
      "display_name": "Python 3"
    },
    "accelerator": "GPU",
    "widgets": {
      "application/vnd.jupyter.widget-state+json": {
        "264175528b7543f8956e9d5da8ff021b": {
          "model_module": "@jupyter-widgets/controls",
          "model_name": "HBoxModel",
          "state": {
            "_view_name": "HBoxView",
            "_dom_classes": [],
            "_model_name": "HBoxModel",
            "_view_module": "@jupyter-widgets/controls",
            "_model_module_version": "1.5.0",
            "_view_count": null,
            "_view_module_version": "1.5.0",
            "box_style": "",
            "layout": "IPY_MODEL_ed783308c2af4309b8a17c470a15dc44",
            "_model_module": "@jupyter-widgets/controls",
            "children": [
              "IPY_MODEL_adc979db6eb94f7f92ff30b93ca0b455",
              "IPY_MODEL_1bec2a696df640beb403e26b3e27b534"
            ]
          }
        },
        "ed783308c2af4309b8a17c470a15dc44": {
          "model_module": "@jupyter-widgets/base",
          "model_name": "LayoutModel",
          "state": {
            "_view_name": "LayoutView",
            "grid_template_rows": null,
            "right": null,
            "justify_content": null,
            "_view_module": "@jupyter-widgets/base",
            "overflow": null,
            "_model_module_version": "1.2.0",
            "_view_count": null,
            "flex_flow": null,
            "width": null,
            "min_width": null,
            "border": null,
            "align_items": null,
            "bottom": null,
            "_model_module": "@jupyter-widgets/base",
            "top": null,
            "grid_column": null,
            "overflow_y": null,
            "overflow_x": null,
            "grid_auto_flow": null,
            "grid_area": null,
            "grid_template_columns": null,
            "flex": null,
            "_model_name": "LayoutModel",
            "justify_items": null,
            "grid_row": null,
            "max_height": null,
            "align_content": null,
            "visibility": null,
            "align_self": null,
            "height": null,
            "min_height": null,
            "padding": null,
            "grid_auto_rows": null,
            "grid_gap": null,
            "max_width": null,
            "order": null,
            "_view_module_version": "1.2.0",
            "grid_template_areas": null,
            "object_position": null,
            "object_fit": null,
            "grid_auto_columns": null,
            "margin": null,
            "display": null,
            "left": null
          }
        },
        "adc979db6eb94f7f92ff30b93ca0b455": {
          "model_module": "@jupyter-widgets/controls",
          "model_name": "IntProgressModel",
          "state": {
            "_view_name": "ProgressView",
            "style": "IPY_MODEL_9dadba1223b64c96b54e6a6c662b7d7a",
            "_dom_classes": [],
            "description": "",
            "_model_name": "IntProgressModel",
            "bar_style": "success",
            "max": 46827520,
            "_view_module": "@jupyter-widgets/controls",
            "_model_module_version": "1.5.0",
            "value": 46827520,
            "_view_count": null,
            "_view_module_version": "1.5.0",
            "orientation": "horizontal",
            "min": 0,
            "description_tooltip": null,
            "_model_module": "@jupyter-widgets/controls",
            "layout": "IPY_MODEL_3799091fdb8a48509d8e0dfa4f2a60b0"
          }
        },
        "1bec2a696df640beb403e26b3e27b534": {
          "model_module": "@jupyter-widgets/controls",
          "model_name": "HTMLModel",
          "state": {
            "_view_name": "HTMLView",
            "style": "IPY_MODEL_853fb0fac6f44e5ca8c5acec5d67c895",
            "_dom_classes": [],
            "description": "",
            "_model_name": "HTMLModel",
            "placeholder": "​",
            "_view_module": "@jupyter-widgets/controls",
            "_model_module_version": "1.5.0",
            "value": "100% 44.7M/44.7M [00:00&lt;00:00, 254MB/s]",
            "_view_count": null,
            "_view_module_version": "1.5.0",
            "description_tooltip": null,
            "_model_module": "@jupyter-widgets/controls",
            "layout": "IPY_MODEL_874c3ed3ec0a41a5b9dfc7e25daef915"
          }
        },
        "9dadba1223b64c96b54e6a6c662b7d7a": {
          "model_module": "@jupyter-widgets/controls",
          "model_name": "ProgressStyleModel",
          "state": {
            "_view_name": "StyleView",
            "_model_name": "ProgressStyleModel",
            "description_width": "",
            "_view_module": "@jupyter-widgets/base",
            "_model_module_version": "1.5.0",
            "_view_count": null,
            "_view_module_version": "1.2.0",
            "bar_color": null,
            "_model_module": "@jupyter-widgets/controls"
          }
        },
        "3799091fdb8a48509d8e0dfa4f2a60b0": {
          "model_module": "@jupyter-widgets/base",
          "model_name": "LayoutModel",
          "state": {
            "_view_name": "LayoutView",
            "grid_template_rows": null,
            "right": null,
            "justify_content": null,
            "_view_module": "@jupyter-widgets/base",
            "overflow": null,
            "_model_module_version": "1.2.0",
            "_view_count": null,
            "flex_flow": null,
            "width": null,
            "min_width": null,
            "border": null,
            "align_items": null,
            "bottom": null,
            "_model_module": "@jupyter-widgets/base",
            "top": null,
            "grid_column": null,
            "overflow_y": null,
            "overflow_x": null,
            "grid_auto_flow": null,
            "grid_area": null,
            "grid_template_columns": null,
            "flex": null,
            "_model_name": "LayoutModel",
            "justify_items": null,
            "grid_row": null,
            "max_height": null,
            "align_content": null,
            "visibility": null,
            "align_self": null,
            "height": null,
            "min_height": null,
            "padding": null,
            "grid_auto_rows": null,
            "grid_gap": null,
            "max_width": null,
            "order": null,
            "_view_module_version": "1.2.0",
            "grid_template_areas": null,
            "object_position": null,
            "object_fit": null,
            "grid_auto_columns": null,
            "margin": null,
            "display": null,
            "left": null
          }
        },
        "853fb0fac6f44e5ca8c5acec5d67c895": {
          "model_module": "@jupyter-widgets/controls",
          "model_name": "DescriptionStyleModel",
          "state": {
            "_view_name": "StyleView",
            "_model_name": "DescriptionStyleModel",
            "description_width": "",
            "_view_module": "@jupyter-widgets/base",
            "_model_module_version": "1.5.0",
            "_view_count": null,
            "_view_module_version": "1.2.0",
            "_model_module": "@jupyter-widgets/controls"
          }
        },
        "874c3ed3ec0a41a5b9dfc7e25daef915": {
          "model_module": "@jupyter-widgets/base",
          "model_name": "LayoutModel",
          "state": {
            "_view_name": "LayoutView",
            "grid_template_rows": null,
            "right": null,
            "justify_content": null,
            "_view_module": "@jupyter-widgets/base",
            "overflow": null,
            "_model_module_version": "1.2.0",
            "_view_count": null,
            "flex_flow": null,
            "width": null,
            "min_width": null,
            "border": null,
            "align_items": null,
            "bottom": null,
            "_model_module": "@jupyter-widgets/base",
            "top": null,
            "grid_column": null,
            "overflow_y": null,
            "overflow_x": null,
            "grid_auto_flow": null,
            "grid_area": null,
            "grid_template_columns": null,
            "flex": null,
            "_model_name": "LayoutModel",
            "justify_items": null,
            "grid_row": null,
            "max_height": null,
            "align_content": null,
            "visibility": null,
            "align_self": null,
            "height": null,
            "min_height": null,
            "padding": null,
            "grid_auto_rows": null,
            "grid_gap": null,
            "max_width": null,
            "order": null,
            "_view_module_version": "1.2.0",
            "grid_template_areas": null,
            "object_position": null,
            "object_fit": null,
            "grid_auto_columns": null,
            "margin": null,
            "display": null,
            "left": null
          }
        }
      }
    }
  },
  "nbformat": 4,
  "nbformat_minor": 0
}